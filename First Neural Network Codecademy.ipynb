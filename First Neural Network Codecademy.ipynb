{
 "cells": [
  {
   "cell_type": "code",
   "execution_count": 2,
   "metadata": {},
   "outputs": [],
   "source": [
    "import pandas as pd\n",
    "import tensorflow\n",
    "from sklearn.model_selection import train_test_split\n",
    "from sklearn.compose import ColumnTransformer\n",
    "from sklearn.preprocessing import StandardScaler\n",
    "from tensorflow.keras.models import Sequential\n",
    "from tensorflow.keras.layers import InputLayer\n",
    "from tensorflow.keras.layers import Dense\n",
    "from tensorflow.keras.optimizers import Adam"
   ]
  },
  {
   "cell_type": "code",
   "execution_count": null,
   "metadata": {},
   "outputs": [],
   "source": [
    "tensorflow.random.set_seed(35) #for the reproducibility of results\n",
    "\n",
    "def design_model(features):\n",
    "  model = Sequential(name = \"my_first_model\")\n",
    "  #without hard-coding\n",
    "  input = InputLayer(input_shape=(features.shape[1],)) \n",
    "  #add the input layer\n",
    "  model.add(input) \n",
    "  #add a hidden layer with 128 neurons\n",
    "  model.add(Dense(128, activation='relu')) \n",
    "  #add an output layer to our model\n",
    "  model.add(Dense(1)) \n",
    "  opt = Adam(learning_rate=0.1)\n",
    "  model.compile(loss='mse',  metrics=['mae'], optimizer=opt)\n",
    "  return model"
   ]
  },
  {
   "cell_type": "code",
   "execution_count": null,
   "metadata": {},
   "outputs": [],
   "source": [
    "dataset = pd.read_csv('insurance.csv') #load the dataset\n",
    "features = dataset.iloc[:,0:6] #choose first 7 columns as features\n",
    "labels = dataset.iloc[:,-1] #choose the final column for prediction"
   ]
  },
  {
   "cell_type": "code",
   "execution_count": null,
   "metadata": {},
   "outputs": [],
   "source": [
    "features = pd.get_dummies(features) #one-hot encoding for categorical variables\n",
    "features_train, features_test, labels_train, labels_test = train_test_split(features, labels, test_size=0.33, random_state=42) #split the data into training and test data\n"
   ]
  },
  {
   "cell_type": "code",
   "execution_count": null,
   "metadata": {},
   "outputs": [],
   "source": [
    "#standardize\n",
    "ct = ColumnTransformer([('standardize', StandardScaler(), ['age', 'bmi', 'children'])], remainder='passthrough')\n",
    "features_train = ct.fit_transform(features_train)\n",
    "features_test = ct.transform(features_test)"
   ]
  },
  {
   "cell_type": "code",
   "execution_count": null,
   "metadata": {},
   "outputs": [],
   "source": [
    "#invoke the function for our model design\n",
    "model = design_model(features_train)\n",
    "print(model.summary())"
   ]
  },
  {
   "cell_type": "code",
   "execution_count": null,
   "metadata": {},
   "outputs": [],
   "source": [
    "#fit the model using 40 epochs and batch size 1\n",
    "model.fit(features_train, labels_train, epochs = 40, batch_size = 1, verbose = 1)"
   ]
  },
  {
   "cell_type": "code",
   "execution_count": null,
   "metadata": {},
   "outputs": [],
   "source": [
    "#evaluate the model on the test data\n",
    "val_mse, val_mae = model.evaluate(features_test, labels_test, verbose = 0)\n",
    " \n",
    "print(\"MAE: \", val_mae)"
   ]
  },
  {
   "cell_type": "code",
   "execution_count": 5,
   "metadata": {},
   "outputs": [],
   "source": [
    "from PIL import Image\n",
    "im = Image.open(\"F:\\\\Zymr Project\\\\Cheque\\\\Cheque 083654.tif\")\n",
    "im.show()"
   ]
  },
  {
   "cell_type": "code",
   "execution_count": 6,
   "metadata": {},
   "outputs": [],
   "source": [
    "import numpy\n",
    "arr = numpy.array(im)"
   ]
  },
  {
   "cell_type": "code",
   "execution_count": 7,
   "metadata": {},
   "outputs": [
    {
     "data": {
      "text/plain": [
       "array([[[239, 242, 254],\n",
       "        [239, 244, 253],\n",
       "        [238, 243, 254],\n",
       "        ...,\n",
       "        [237, 240, 251],\n",
       "        [236, 240, 250],\n",
       "        [239, 242, 251]],\n",
       "\n",
       "       [[239, 245, 254],\n",
       "        [239, 243, 252],\n",
       "        [238, 245, 254],\n",
       "        ...,\n",
       "        [237, 240, 251],\n",
       "        [236, 239, 249],\n",
       "        [237, 243, 252]],\n",
       "\n",
       "       [[239, 244, 253],\n",
       "        [238, 244, 252],\n",
       "        [238, 244, 252],\n",
       "        ...,\n",
       "        [234, 239, 249],\n",
       "        [235, 239, 249],\n",
       "        [236, 241, 250]],\n",
       "\n",
       "       ...,\n",
       "\n",
       "       [[242, 247, 255],\n",
       "        [243, 247, 255],\n",
       "        [244, 248, 255],\n",
       "        ...,\n",
       "        [243, 240, 239],\n",
       "        [243, 239, 238],\n",
       "        [244, 239, 239]],\n",
       "\n",
       "       [[243, 249, 255],\n",
       "        [244, 248, 255],\n",
       "        [244, 247, 255],\n",
       "        ...,\n",
       "        [244, 241, 240],\n",
       "        [245, 240, 240],\n",
       "        [237, 235, 235]],\n",
       "\n",
       "       [[244, 248, 255],\n",
       "        [243, 246, 255],\n",
       "        [242, 248, 255],\n",
       "        ...,\n",
       "        [243, 242, 243],\n",
       "        [242, 242, 239],\n",
       "        [234, 235, 237]]], dtype=uint8)"
      ]
     },
     "execution_count": 7,
     "metadata": {},
     "output_type": "execute_result"
    }
   ],
   "source": [
    "arr"
   ]
  },
  {
   "cell_type": "code",
   "execution_count": 10,
   "metadata": {},
   "outputs": [
    {
     "name": "stdout",
     "output_type": "stream",
     "text": [
      "(1093, 2372, 3) 7777788\n"
     ]
    }
   ],
   "source": [
    "print(arr.shape,\n",
    "arr.size)"
   ]
  },
  {
   "cell_type": "code",
   "execution_count": null,
   "metadata": {},
   "outputs": [],
   "source": []
  }
 ],
 "metadata": {
  "kernelspec": {
   "display_name": "Python 3",
   "language": "python",
   "name": "python3"
  },
  "language_info": {
   "codemirror_mode": {
    "name": "ipython",
    "version": 3
   },
   "file_extension": ".py",
   "mimetype": "text/x-python",
   "name": "python",
   "nbconvert_exporter": "python",
   "pygments_lexer": "ipython3",
   "version": "3.8.3"
  }
 },
 "nbformat": 4,
 "nbformat_minor": 4
}
